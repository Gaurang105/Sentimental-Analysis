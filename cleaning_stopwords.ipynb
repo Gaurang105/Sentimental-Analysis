{
 "cells": [
  {
   "cell_type": "code",
   "execution_count": 4,
   "metadata": {},
   "outputs": [],
   "source": [
    "import os\n",
    "\n",
    "# Load stopwords from files\n",
    "stopwords_folder = 'stopwords'\n",
    "stopwords_files = [f'StopWords{i}.txt' for i in range(1, 8)]\n",
    "stopwords = []\n",
    "for sw_file in stopwords_files:\n",
    "    with open(os.path.join(stopwords_folder, sw_file), 'r') as f:\n",
    "        stopwords.extend(f.read().splitlines())  # Add the stopwords from this file to the list\n",
    "\n",
    "# Directory containing the article files\n",
    "article_dir = 'scraped-articles'\n",
    "\n",
    "# Iterate over all files in the article directory\n",
    "for filename in os.listdir(article_dir):\n",
    "    filepath = os.path.join(article_dir, filename)\n",
    "\n",
    "    # Only process text files\n",
    "    if filepath.endswith('.txt'):\n",
    "        with open(filepath, 'r', encoding='utf-8') as f:\n",
    "            text = f.read()\n",
    "\n",
    "        # Split the text into words, remove stopwords, and rejoin into a single string\n",
    "        words = text.split()\n",
    "        cleaned_words = [word for word in words if word.lower() not in stopwords]\n",
    "        cleaned_text = ' '.join(cleaned_words)\n",
    "\n",
    "        # Overwrite the file with the cleaned text\n",
    "        with open(filepath, 'w', encoding='utf-8') as f:\n",
    "            f.write(cleaned_text)\n"
   ]
  },
  {
   "cell_type": "code",
   "execution_count": null,
   "metadata": {},
   "outputs": [],
   "source": []
  }
 ],
 "metadata": {
  "kernelspec": {
   "display_name": "Python 3",
   "language": "python",
   "name": "python3"
  },
  "language_info": {
   "codemirror_mode": {
    "name": "ipython",
    "version": 3
   },
   "file_extension": ".py",
   "mimetype": "text/x-python",
   "name": "python",
   "nbconvert_exporter": "python",
   "pygments_lexer": "ipython3",
   "version": "3.11.0"
  },
  "orig_nbformat": 4
 },
 "nbformat": 4,
 "nbformat_minor": 2
}
