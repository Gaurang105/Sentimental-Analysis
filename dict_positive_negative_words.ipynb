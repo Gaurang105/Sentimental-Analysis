{
 "cells": [
  {
   "cell_type": "code",
   "execution_count": 1,
   "metadata": {},
   "outputs": [],
   "source": [
    "import os\n",
    "import re\n",
    "\n",
    "# Folder with stopwords and positive-negative words\n",
    "stopwords_dir = 'stopwords'\n",
    "pos_neg_words_dir = 'positive-negative words'\n",
    "\n",
    "# Gathering all stopwords from the stopwords files\n",
    "stopwords = set()\n",
    "for filename in os.listdir(stopwords_dir):\n",
    "    if re.match(r'StopWords\\d', filename):  # Only process stopwords files\n",
    "        with open(os.path.join(stopwords_dir, filename), 'r', encoding='utf-8') as f:\n",
    "            words = f.read().splitlines()\n",
    "        stopwords.update(words)\n",
    "\n",
    "# Processing positive and negative words files\n",
    "for filename in ['positive-words.txt', 'negative-words.txt']:\n",
    "    filepath = os.path.join(pos_neg_words_dir, filename)\n",
    "    with open(filepath, 'r', encoding='utf-8') as f:\n",
    "        words = f.read().splitlines()\n",
    "\n",
    "    # Remove stopwords\n",
    "    words = [word for word in words if word not in stopwords]\n",
    "\n",
    "    # Overwrite the file with the words list without stopwords\n",
    "    with open(filepath, 'w', encoding='utf-8') as f:\n",
    "        f.write('\\n'.join(words))\n"
   ]
  },
  {
   "cell_type": "code",
   "execution_count": null,
   "metadata": {},
   "outputs": [],
   "source": []
  }
 ],
 "metadata": {
  "kernelspec": {
   "display_name": "Python 3",
   "language": "python",
   "name": "python3"
  },
  "language_info": {
   "codemirror_mode": {
    "name": "ipython",
    "version": 3
   },
   "file_extension": ".py",
   "mimetype": "text/x-python",
   "name": "python",
   "nbconvert_exporter": "python",
   "pygments_lexer": "ipython3",
   "version": "3.11.0"
  },
  "orig_nbformat": 4
 },
 "nbformat": 4,
 "nbformat_minor": 2
}
