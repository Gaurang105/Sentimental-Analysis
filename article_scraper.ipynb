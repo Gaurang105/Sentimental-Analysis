{
 "cells": [
  {
   "cell_type": "code",
   "execution_count": 22,
   "metadata": {},
   "outputs": [],
   "source": [
    "import pandas as pd\n",
    "import requests\n",
    "from bs4 import BeautifulSoup\n",
    "import os\n",
    "\n",
    "df = pd.read_excel('Input.xlsx')\n",
    "\n",
    "# Creating a folder named 'scraped-articles' \n",
    "output_folder = 'scraped-articles'\n",
    "if not os.path.exists(output_folder):\n",
    "    os.makedirs(output_folder)\n",
    "\n",
    "for index, row in df.iterrows():\n",
    "    url_id = row['URL_ID']\n",
    "    url = row['URL']\n",
    "\n",
    "    r = requests.get(url)\n",
    "    r.encoding = 'utf-8'\n",
    "\n",
    "    soup = BeautifulSoup(r.text, 'html.parser')\n",
    "\n",
    "    h1_tag = soup.find('h1')\n",
    "    if h1_tag:  # Only proceed if h1_tag is not None\n",
    "        title = h1_tag.text\n",
    "\n",
    "        p_tags = soup.select('.tdb-block-inner.td-fix-index p, .td-post-content.tagdiv-type p')\n",
    "        if p_tags:\n",
    "            # Adding line breaks between paragraphs for better formatting\n",
    "            article_text = '\\n'.join([p.text for p in p_tags])\n",
    "        else:\n",
    "            article_text = 'No article text found'\n",
    "\n",
    "        full_text = title + '\\n\\n' + article_text  # Adding additional line break between title and article\n",
    "\n",
    "        # Saving the output file inside the 'scraped-articles' folder\n",
    "        output_file = os.path.join(output_folder, f'{url_id}.txt')\n",
    "        with open(output_file, 'w', encoding='utf-8') as f:\n",
    "            f.write(full_text)\n"
   ]
  }
 ],
 "metadata": {
  "kernelspec": {
   "display_name": "Python 3",
   "language": "python",
   "name": "python3"
  },
  "language_info": {
   "codemirror_mode": {
    "name": "ipython",
    "version": 3
   },
   "file_extension": ".py",
   "mimetype": "text/x-python",
   "name": "python",
   "nbconvert_exporter": "python",
   "pygments_lexer": "ipython3",
   "version": "3.11.0"
  },
  "orig_nbformat": 4
 },
 "nbformat": 4,
 "nbformat_minor": 2
}
